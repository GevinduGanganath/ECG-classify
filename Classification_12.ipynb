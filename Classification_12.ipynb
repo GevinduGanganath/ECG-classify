{
  "cells": [
    {
      "cell_type": "code",
      "execution_count": null,
      "metadata": {
        "id": "p_rSDAGWFyYp"
      },
      "outputs": [],
      "source": [
        "import random\n",
        "import pandas as pd\n",
        "import numpy as np\n",
        "from tqdm import tqdm\n",
        "import torch\n",
        "import torch.nn as nn\n",
        "import torch.optim as optim\n",
        "import torch.nn.functional as F\n",
        "import matplotlib.pyplot as pyplot\n",
        "from sklearn.metrics import accuracy_score, f1_score, confusion_matrix\n",
        "from matplotlib import pyplot as plt\n",
        "from mlxtend.plotting import plot_confusion_matrix\n",
        "import seaborn as sns\n",
        "\n",
        "%matplotlib inline"
      ]
    },
    {
      "cell_type": "code",
      "execution_count": null,
      "metadata": {
        "colab": {
          "base_uri": "https://localhost:8080/"
        },
        "id": "KvpvplwgoUnG",
        "outputId": "470478b4-4f01-408f-8cc1-779d4a5daa9e"
      },
      "outputs": [
        {
          "output_type": "stream",
          "name": "stdout",
          "text": [
            "Mounted at /content/drive\n"
          ]
        }
      ],
      "source": [
        "from google.colab import drive\n",
        "drive.mount('/content/drive')\n",
        "\n",
        "device = torch.device(\"cuda:0\" if torch.cuda.is_available() else \"cpu\")"
      ]
    },
    {
      "cell_type": "code",
      "execution_count": null,
      "metadata": {
        "id": "kvCTuZ02zucX"
      },
      "outputs": [],
      "source": [
        "class ECGDataSet(torch.utils.data.Dataset):\n",
        "  def __init__(self, ecg_address=\"/content/drive/MyDrive/Intelliscope/Software/ML/Classification 12/ECG_data.npy\",\n",
        "               demographic_address=\"/content/drive/MyDrive/Intelliscope/Software/ML/Classification 12/Demographic_data.npy\",\n",
        "               Y_address=\"/content/drive/MyDrive/Intelliscope/Software/ML/Classification 12/Y.npy\"):\n",
        "    self.X_ECG = np.load(ecg_address).astype(np.float32)\n",
        "    self.X_demographic = np.load(demographic_address)\n",
        "    values = np.load(Y_address)\n",
        "    n_values = np.max(values) + 1\n",
        "    self.Y = np.eye(n_values)[values]\n",
        "\n",
        "    if self.X_demographic.shape[0] == self.X_ECG.shape[0] == self.Y.shape[0]: print(\"[INFO] Data loaded successfully. {} test cases.\".format(self.Y.shape[0]))\n",
        "    else: print(\"[ERROR] Data loading incomplete.\")\n",
        "\n",
        "  def __len__(self):\n",
        "    return self.Y.shape[0]\n",
        "\n",
        "  def __getitem__(self, index):\n",
        "    return [self.X_ECG[index], self.X_demographic[index]], self.Y[index]\n"
      ]
    },
    {
      "cell_type": "code",
      "execution_count": null,
      "metadata": {
        "id": "5ATM4zOoGRMD"
      },
      "outputs": [],
      "source": [
        "class SEModule(nn.Module):\n",
        "    def __init__(self,\n",
        "        in_channels,\n",
        "        reduction = 16,\n",
        "    ):\n",
        "        super(SEModule, self).__init__()\n",
        "        self.pool = nn.AdaptiveAvgPool1d(1)\n",
        "\n",
        "        self.s_conv = nn.Conv1d(\n",
        "            in_channels, in_channels//reduction,\n",
        "            kernel_size = 1,\n",
        "        )\n",
        "        self.act_fn = nn.ReLU()\n",
        "        self.e_conv = nn.Conv1d(\n",
        "            in_channels//reduction, in_channels,\n",
        "            kernel_size = 1,\n",
        "        )\n",
        "\n",
        "    def forward(self,\n",
        "        input,\n",
        "    ):\n",
        "        attention_scores = self.pool(input)\n",
        "        attention_scores = self.s_conv(attention_scores)\n",
        "        attention_scores = self.act_fn(attention_scores)\n",
        "        attention_scores = self.e_conv(attention_scores)\n",
        "        return input*torch.sigmoid(attention_scores)\n",
        "\n",
        "class SEResBlock(nn.Module):\n",
        "    def __init__(self,\n",
        "        in_channels,\n",
        "        downsample = False,\n",
        "    ):\n",
        "        super(SEResBlock, self).__init__()\n",
        "        if downsample:\n",
        "            self.out_channels = in_channels*2\n",
        "            self.conv_1 = nn.Conv1d(\n",
        "                in_channels, self.out_channels,\n",
        "                kernel_size = 7, padding = 3, stride = 2,\n",
        "            )\n",
        "            self.identity = nn.Sequential(\n",
        "                nn.Conv1d(\n",
        "                    in_channels, self.out_channels,\n",
        "                    kernel_size = 1, padding = 0, stride = 2,\n",
        "                ),\n",
        "                nn.BatchNorm1d(self.out_channels),\n",
        "            )\n",
        "        else:\n",
        "            self.out_channels = in_channels\n",
        "            self.conv_1 = nn.Conv1d(\n",
        "                in_channels, self.out_channels,\n",
        "                kernel_size = 7, padding = 3, stride = 1,\n",
        "            )\n",
        "            self.identity = nn.Identity()\n",
        "        self.conv_2 = nn.Conv1d(\n",
        "            self.out_channels, self.out_channels,\n",
        "            kernel_size = 7, padding = 3, stride = 1,\n",
        "        )\n",
        "\n",
        "        self.convs = nn.Sequential(\n",
        "            self.conv_1,\n",
        "            nn.BatchNorm1d(self.out_channels),\n",
        "            nn.ReLU(),\n",
        "            nn.Dropout(0.3),\n",
        "            self.conv_2,\n",
        "            nn.BatchNorm1d(self.out_channels),\n",
        "            SEModule(self.out_channels),\n",
        "        )\n",
        "        self.act_fn = nn.ReLU()\n",
        "\n",
        "    def forward(self,\n",
        "        input,\n",
        "    ):\n",
        "        output = self.convs(input) + self.identity(input)\n",
        "        output = self.act_fn(output)\n",
        "\n",
        "        return output\n",
        "\n",
        "class SEResNet18(nn.Module):\n",
        "    def __init__(self,\n",
        "        base_channels = 64,\n",
        "    ):\n",
        "        super(SEResNet18, self).__init__()\n",
        "        self.bblock = SEResBlock\n",
        "        self.stem = nn.Sequential(\n",
        "            nn.Conv1d(\n",
        "                1, base_channels,\n",
        "                kernel_size = 15, padding = 7, stride = 2,\n",
        "            ),\n",
        "            nn.BatchNorm1d(base_channels),\n",
        "            nn.ReLU(),\n",
        "            nn.MaxPool1d(\n",
        "                kernel_size = 3, padding = 1, stride = 2,\n",
        "            ),\n",
        "        )\n",
        "        self.stage_0 = nn.Sequential(\n",
        "            self.bblock(base_channels),\n",
        "            self.bblock(base_channels),\n",
        "        )\n",
        "\n",
        "        self.stage_1 = nn.Sequential(\n",
        "            self.bblock(base_channels*1, downsample = True),\n",
        "            self.bblock(base_channels*2),\n",
        "        )\n",
        "        self.stage_2 = nn.Sequential(\n",
        "            self.bblock(base_channels*2, downsample = True),\n",
        "            self.bblock(base_channels*4),\n",
        "        )\n",
        "        self.stage_3 = nn.Sequential(\n",
        "            self.bblock(base_channels*4, downsample = True),\n",
        "            self.bblock(base_channels*8),\n",
        "        )\n",
        "\n",
        "        self.pool = nn.AdaptiveAvgPool1d(1)\n",
        "\n",
        "    def forward(self,\n",
        "        input,\n",
        "    ):\n",
        "        output = self.stem(input)\n",
        "        output = self.stage_0(output)\n",
        "\n",
        "        output = self.stage_1(output)\n",
        "        output = self.stage_2(output)\n",
        "        output = self.stage_3(output)\n",
        "\n",
        "        output = self.pool(output)\n",
        "\n",
        "        return output"
      ]
    },
    {
      "cell_type": "code",
      "execution_count": null,
      "metadata": {
        "id": "3PuYv6asIJ3G"
      },
      "outputs": [],
      "source": [
        "class X3ECGpp(nn.Module):\n",
        "    def __init__(self,\n",
        "        base_channels = 64,\n",
        "        num_classes = 12,\n",
        "    ):\n",
        "        super(X3ECGpp, self).__init__()\n",
        "        self.backbone_0 = SEResNet18(base_channels)\n",
        "        self.backbone_1 = SEResNet18(base_channels)\n",
        "        self.backbone_2 = SEResNet18(base_channels)\n",
        "\n",
        "        self.lw_attention = nn.Sequential(\n",
        "            nn.Linear(\n",
        "                base_channels*16, base_channels*8,\n",
        "            ),\n",
        "            nn.BatchNorm1d(base_channels*8),\n",
        "            nn.ReLU(),\n",
        "            nn.Dropout(0.3),\n",
        "            nn.Linear(\n",
        "                base_channels*8, 2,\n",
        "                      ),\n",
        "        )\n",
        " Sinus Rhythm\n",
        "\n",
        "        self.regressor = nn.Sequential(\n",
        "            nn.Dropout(0.2),\n",
        "            nn.Linear(\n",
        "                base_channels*8, 1,\n",
        "            ),\n",
        "        )\n",
        "\n",
        "        self.backbone_demogr = nn.Sequential(\n",
        "            nn.Linear(\n",
        "                2, base_channels*2,\n",
        "            ),\n",
        "            nn.BatchNorm1d(base_channels*2),\n",
        "            nn.ReLU(),\n",
        "            nn.Dropout(0.3),\n",
        "            nn.Linear(\n",
        "                base_channels*2, base_channels*2,\n",
        "            ),\n",
        "            nn.BatchNorm1d(base_channels*2),\n",
        "            nn.ReLU(),\n",
        "        )\n",
        "        self.classifier = nn.Sequential(\n",
        "            nn.Dropout(0.2),\n",
        "            nn.Linear(\n",
        "                base_channels*10, num_classes,\n",
        "            ),\n",
        "            nn.Softmax(dim=1),\n",
        "        )\n",
        "\n",
        "    def forward(self,\n",
        "        ecg_input,\n",
        "        demo_input,\n",
        "        return_attention_scores = False,\n",
        "    ):\n",
        "        demo_input = demo_input.float()\n",
        "        features_0 = self.backbone_0(ecg_input[:, 0, :].unsqueeze(1)).squeeze(2)\n",
        "        features_1 = self.backbone_1(ecg_input[:, 1, :].unsqueeze(1)).squeeze(2)\n",
        "        # features_2 = self.backbone_2(ecg_input[:, 2, :].unsqueeze(1)).squeeze(2)\n",
        "        attention_scores = torch.sigmoid(\n",
        "            self.lw_attention(\n",
        "                torch.cat(\n",
        "                [\n",
        "                    features_0,\n",
        "                    features_1,\n",
        "                    # features_2,\n",
        "                ],\n",
        "                dim = 1,\n",
        "                )\n",
        "            )\n",
        "        )\n",
        "        merged_features = torch.sum(\n",
        "            torch.stack(\n",
        "            [\n",
        "                features_0,\n",
        "                features_1,\n",
        "                # features_2,\n",
        "            ],\n",
        "            dim = 1,\n",
        "            )*attention_scores.unsqueeze(-1),\n",
        "            dim = 1,\n",
        "        )\n",
        "        # sub_output = self.regressor(merged_features).squeeze(-1)\n",
        "        merged_features = torch.cat(\n",
        "            [\n",
        "                merged_features,\n",
        "                self.backbone_demogr(demo_input),\n",
        "            ],\n",
        "            axis = 1,\n",
        "        )\n",
        "        output = self.classifier(merged_features)\n",
        "\n",
        "        # if not return_attention_scores:\n",
        "        #     return (output, sub_output)\n",
        "        # else:\n",
        "        #     return (output, sub_output), attention_scores\n",
        "\n",
        "        if not return_attention_scores:\n",
        "            return output\n",
        "        else:\n",
        "            return output, attention_scores"
      ]
    },
    {
      "cell_type": "code",
      "execution_count": null,
      "metadata": {
        "id": "OUu3xqCBcwL7"
      },
      "outputs": [],
      "source": [
        "def Softmax_2_Onehot(probs):\n",
        "  max_idx = torch.argmax(probs, dim=1, keepdim=True)\n",
        "  one_hot = torch.FloatTensor(probs.shape)\n",
        "  one_hot.zero_()\n",
        "  one_hot.scatter_(1, max_idx, 1)\n",
        "  return one_hot.numpy()"
      ]
    },
    {
      "cell_type": "code",
      "execution_count": null,
      "metadata": {
        "id": "mhZr-BvT4zIl"
      },
      "outputs": [],
      "source": [
        "def train_model(model, train_dl, validation_dl, epoches, learning_rate, T_max=40, eta_min=7.5e-6):\n",
        "    criterian = nn.CrossEntropyLoss()\n",
        "    optimizer = torch.optim.Adam(model.parameters(), lr=learning_rate, weight_decay=5e-5)\n",
        "    lr_scheduler = torch.optim.lr_scheduler.CosineAnnealingLR(optimizer, T_max=T_max, eta_min=eta_min, verbose=True)\n",
        "    train_loss_schedule, validation_loss_schedule = [], []\n",
        "\n",
        "    for epoch in range(epoches):\n",
        "        for i, (X, Y) in tqdm(enumerate(train_dl)):\n",
        "            optimizer.zero_grad()\n",
        "            Y_pred = model(torch.as_tensor(X[0]).to(device), torch.as_tensor(X[1]).to(device))\n",
        "            train_loss = criterian(Y_pred.reshape((Y_pred.shape[0], 12)), Y.float().to(device))\n",
        "            train_loss.backward()\n",
        "            optimizer.step()\n",
        "        if epoch < T_max: lr_scheduler.step()\n",
        "\n",
        "        for i, (X, Y) in enumerate(validation_dl):\n",
        "            Y_pred = model(torch.as_tensor(X[0]).to(device), torch.as_tensor(X[1]).to(device))\n",
        "            validation_loss = criterian(Y_pred.reshape((Y_pred.shape[0], 12)), Y.float().to(device))\n",
        "\n",
        "        train_loss_schedule.append(float(train_loss.to(\"cpu\")))\n",
        "        validation_loss_schedule.append(float(validation_loss.to(\"cpu\")))\n",
        "        print(\"[INFO] Completed epoch {}/{} ---> Train loss = {} | Validation loss = {}\".format(epoch+1, epoches, round(float(train_loss.to(\"cpu\")), 5), round(float(validation_loss.to(\"cpu\")), 5)))\n",
        "\n",
        "    plt.plot(range(epoches), np.array(train_loss_schedule)), plt.plot(range(epoches), np.array(validation_loss_schedule))\n",
        "    plt.xlabel(\"Epoch\"), plt.ylabel(\"Loss\"), plt.title(\"Epoch vs Loss\"), plt.legend(['Train loss', 'Validation loss'])\n",
        "    plt.show()\n",
        "    return\n",
        "\n",
        "def evaluate_model(model, dl, dl_name):\n",
        "    predictions, actuals = [], []\n",
        "\n",
        "    for i, (X, Y) in enumerate(dl):\n",
        "        Y_pred = model(torch.as_tensor(X[0]).to(device), torch.as_tensor(X[1]).to(device))\n",
        "        Y_pred = Softmax_2_Onehot(Y_pred.detach().to(\"cpu\"))\n",
        "        Y = Y.numpy()\n",
        "        Y = Y.reshape((len(Y), 12))\n",
        "        predictions.append(Y_pred)\n",
        "        actuals.append(Y)\n",
        "\n",
        "    predictions, actuals = np.vstack(predictions), np.vstack(actuals)\n",
        "    acc = accuracy_score(actuals, predictions)\n",
        "    f1 = f1_score(actuals, predictions, average=\"weighted\", zero_division=0)\n",
        "    print(\"[INFO] {} accuracy = {} | f1-score = {}\".format(dl_name, round(acc, 5), round(f1, 5)))\n",
        "\n",
        "    if dl_name == \"Test\":\n",
        "      cm = confusion_matrix(actuals.argmax(axis=1), predictions.argmax(axis=1), labels=range(12))\n",
        "      lables = [\"SB\", \"SR\", \"AFIB\", \"ST\", \"SA\", \"AF\", \"SI\", \"SVT\", \"AT\", \"AVNRT\", \"AVRT\", \"SAAWR\"]\n",
        "      ax= plt.subplot()\n",
        "      sns.heatmap(cm, annot=True, fmt='g', ax=ax);\n",
        "      ax.set_xlabel('Predicted labels');ax.set_ylabel('True labels');\n",
        "      ax.set_title('Confusion Matrix');\n",
        "      ax.xaxis.set_ticklabels(lables, rotation=45); ax.yaxis.set_ticklabels(lables, rotation=45);\n",
        "      plt.show()\n",
        "    return\n"
      ]
    },
    {
      "cell_type": "code",
      "execution_count": null,
      "metadata": {
        "colab": {
          "base_uri": "https://localhost:8080/"
        },
        "id": "B6QuZA0u1B1c",
        "outputId": "1d06f900-e30c-477e-b24c-0bf913a737e3"
      },
      "outputs": [
        {
          "output_type": "stream",
          "name": "stdout",
          "text": [
            "[INFO] Data loaded successfully. 10645 test cases.\n"
          ]
        }
      ],
      "source": [
        "dataset = ECGDataSet()\n",
        "\n",
        "train, validation, test = torch.utils.data.random_split(dataset, [9600, 600, 445])\n",
        "train_dl = torch.utils.data.DataLoader(train, batch_size=150, shuffle=True)\n",
        "validation_dl = torch.utils.data.DataLoader(validation, batch_size=150, shuffle=True)\n",
        "test_dl = torch.utils.data.DataLoader(test, batch_size=89, shuffle=False)"
      ]
    },
    {
      "cell_type": "code",
      "execution_count": null,
      "metadata": {
        "colab": {
          "base_uri": "https://localhost:8080/"
        },
        "id": "TZdnjOpE5Yn3",
        "outputId": "52891e94-cb15-44b7-f917-42baf19ffea0"
      },
      "outputs": [
        {
          "output_type": "stream",
          "name": "stdout",
          "text": [
            "Adjusting learning rate of group 0 to 7.5000e-05.\n"
          ]
        },
        {
          "output_type": "stream",
          "name": "stderr",
          "text": [
            "64it [01:10,  1.10s/it]\n"
          ]
        },
        {
          "output_type": "stream",
          "name": "stdout",
          "text": [
            "Adjusting learning rate of group 0 to 7.4896e-05.\n",
            "[INFO] Completed epoch 1/100 ---> Train loss = 1.86398 | Validation loss = 1.88009\n"
          ]
        },
        {
          "output_type": "stream",
          "name": "stderr",
          "text": [
            "64it [01:07,  1.05s/it]\n"
          ]
        },
        {
          "output_type": "stream",
          "name": "stdout",
          "text": [
            "Adjusting learning rate of group 0 to 7.4584e-05.\n",
            "[INFO] Completed epoch 2/100 ---> Train loss = 1.79795 | Validation loss = 1.77752\n"
          ]
        },
        {
          "output_type": "stream",
          "name": "stderr",
          "text": [
            "64it [01:06,  1.04s/it]\n"
          ]
        },
        {
          "output_type": "stream",
          "name": "stdout",
          "text": [
            "Adjusting learning rate of group 0 to 7.4067e-05.\n",
            "[INFO] Completed epoch 3/100 ---> Train loss = 1.79345 | Validation loss = 1.77062\n"
          ]
        },
        {
          "output_type": "stream",
          "name": "stderr",
          "text": [
            "64it [01:06,  1.05s/it]\n"
          ]
        },
        {
          "output_type": "stream",
          "name": "stdout",
          "text": [
            "Adjusting learning rate of group 0 to 7.3348e-05.\n",
            "[INFO] Completed epoch 4/100 ---> Train loss = 1.75124 | Validation loss = 1.76323\n"
          ]
        },
        {
          "output_type": "stream",
          "name": "stderr",
          "text": [
            "64it [01:06,  1.05s/it]\n"
          ]
        },
        {
          "output_type": "stream",
          "name": "stdout",
          "text": [
            "Adjusting learning rate of group 0 to 7.2431e-05.\n",
            "[INFO] Completed epoch 5/100 ---> Train loss = 1.74899 | Validation loss = 1.76225\n"
          ]
        },
        {
          "output_type": "stream",
          "name": "stderr",
          "text": [
            "64it [01:06,  1.05s/it]\n"
          ]
        },
        {
          "output_type": "stream",
          "name": "stdout",
          "text": [
            "Adjusting learning rate of group 0 to 7.1321e-05.\n",
            "[INFO] Completed epoch 6/100 ---> Train loss = 1.72455 | Validation loss = 1.72682\n"
          ]
        },
        {
          "output_type": "stream",
          "name": "stderr",
          "text": [
            "64it [01:06,  1.05s/it]\n"
          ]
        },
        {
          "output_type": "stream",
          "name": "stdout",
          "text": [
            "Adjusting learning rate of group 0 to 7.0027e-05.\n",
            "[INFO] Completed epoch 7/100 ---> Train loss = 1.72252 | Validation loss = 1.77201\n"
          ]
        },
        {
          "output_type": "stream",
          "name": "stderr",
          "text": [
            "64it [01:06,  1.05s/it]\n"
          ]
        },
        {
          "output_type": "stream",
          "name": "stdout",
          "text": [
            "Adjusting learning rate of group 0 to 6.8554e-05.\n",
            "[INFO] Completed epoch 8/100 ---> Train loss = 1.75439 | Validation loss = 1.73375\n"
          ]
        },
        {
          "output_type": "stream",
          "name": "stderr",
          "text": [
            "64it [01:06,  1.05s/it]\n"
          ]
        },
        {
          "output_type": "stream",
          "name": "stdout",
          "text": [
            "Adjusting learning rate of group 0 to 6.6914e-05.\n",
            "[INFO] Completed epoch 9/100 ---> Train loss = 1.75977 | Validation loss = 1.70161\n"
          ]
        },
        {
          "output_type": "stream",
          "name": "stderr",
          "text": [
            "64it [01:07,  1.05s/it]\n"
          ]
        },
        {
          "output_type": "stream",
          "name": "stdout",
          "text": [
            "Adjusting learning rate of group 0 to 6.5115e-05.\n",
            "[INFO] Completed epoch 10/100 ---> Train loss = 1.71859 | Validation loss = 1.71152\n"
          ]
        },
        {
          "output_type": "stream",
          "name": "stderr",
          "text": [
            "64it [01:07,  1.05s/it]\n"
          ]
        },
        {
          "output_type": "stream",
          "name": "stdout",
          "text": [
            "Adjusting learning rate of group 0 to 6.3169e-05.\n",
            "[INFO] Completed epoch 11/100 ---> Train loss = 1.73216 | Validation loss = 1.74953\n"
          ]
        },
        {
          "output_type": "stream",
          "name": "stderr",
          "text": [
            "64it [01:07,  1.05s/it]\n"
          ]
        },
        {
          "output_type": "stream",
          "name": "stdout",
          "text": [
            "Adjusting learning rate of group 0 to 6.1088e-05.\n",
            "[INFO] Completed epoch 12/100 ---> Train loss = 1.75169 | Validation loss = 1.70974\n"
          ]
        },
        {
          "output_type": "stream",
          "name": "stderr",
          "text": [
            "64it [01:07,  1.05s/it]\n"
          ]
        },
        {
          "output_type": "stream",
          "name": "stdout",
          "text": [
            "Adjusting learning rate of group 0 to 5.8884e-05.\n",
            "[INFO] Completed epoch 13/100 ---> Train loss = 1.75264 | Validation loss = 1.74287\n"
          ]
        },
        {
          "output_type": "stream",
          "name": "stderr",
          "text": [
            "64it [01:07,  1.05s/it]\n"
          ]
        },
        {
          "output_type": "stream",
          "name": "stdout",
          "text": [
            "Adjusting learning rate of group 0 to 5.6572e-05.\n",
            "[INFO] Completed epoch 14/100 ---> Train loss = 1.71577 | Validation loss = 1.70887\n"
          ]
        },
        {
          "output_type": "stream",
          "name": "stderr",
          "text": [
            "64it [01:07,  1.05s/it]\n"
          ]
        },
        {
          "output_type": "stream",
          "name": "stdout",
          "text": [
            "Adjusting learning rate of group 0 to 5.4166e-05.\n",
            "[INFO] Completed epoch 15/100 ---> Train loss = 1.69542 | Validation loss = 1.73262\n"
          ]
        },
        {
          "output_type": "stream",
          "name": "stderr",
          "text": [
            "64it [01:07,  1.05s/it]\n"
          ]
        },
        {
          "output_type": "stream",
          "name": "stdout",
          "text": [
            "Adjusting learning rate of group 0 to 5.1679e-05.\n",
            "[INFO] Completed epoch 16/100 ---> Train loss = 1.68873 | Validation loss = 1.75565\n"
          ]
        },
        {
          "output_type": "stream",
          "name": "stderr",
          "text": [
            "64it [01:07,  1.05s/it]\n"
          ]
        },
        {
          "output_type": "stream",
          "name": "stdout",
          "text": [
            "Adjusting learning rate of group 0 to 4.9129e-05.\n",
            "[INFO] Completed epoch 17/100 ---> Train loss = 1.69704 | Validation loss = 1.70833\n"
          ]
        },
        {
          "output_type": "stream",
          "name": "stderr",
          "text": [
            "64it [01:07,  1.05s/it]\n"
          ]
        },
        {
          "output_type": "stream",
          "name": "stdout",
          "text": [
            "Adjusting learning rate of group 0 to 4.6530e-05.\n",
            "[INFO] Completed epoch 18/100 ---> Train loss = 1.71709 | Validation loss = 1.73801\n"
          ]
        },
        {
          "output_type": "stream",
          "name": "stderr",
          "text": [
            "64it [01:06,  1.05s/it]\n"
          ]
        },
        {
          "output_type": "stream",
          "name": "stdout",
          "text": [
            "Adjusting learning rate of group 0 to 4.3898e-05.\n",
            "[INFO] Completed epoch 19/100 ---> Train loss = 1.72524 | Validation loss = 1.74871\n"
          ]
        },
        {
          "output_type": "stream",
          "name": "stderr",
          "text": [
            "64it [01:07,  1.05s/it]\n"
          ]
        },
        {
          "output_type": "stream",
          "name": "stdout",
          "text": [
            "Adjusting learning rate of group 0 to 4.1250e-05.\n",
            "[INFO] Completed epoch 20/100 ---> Train loss = 1.71063 | Validation loss = 1.7606\n"
          ]
        },
        {
          "output_type": "stream",
          "name": "stderr",
          "text": [
            "64it [01:06,  1.04s/it]\n"
          ]
        },
        {
          "output_type": "stream",
          "name": "stdout",
          "text": [
            "Adjusting learning rate of group 0 to 3.8602e-05.\n",
            "[INFO] Completed epoch 21/100 ---> Train loss = 1.72779 | Validation loss = 1.75864\n"
          ]
        },
        {
          "output_type": "stream",
          "name": "stderr",
          "text": [
            "64it [01:07,  1.05s/it]\n"
          ]
        },
        {
          "output_type": "stream",
          "name": "stdout",
          "text": [
            "Adjusting learning rate of group 0 to 3.5970e-05.\n",
            "[INFO] Completed epoch 22/100 ---> Train loss = 1.73047 | Validation loss = 1.71502\n"
          ]
        },
        {
          "output_type": "stream",
          "name": "stderr",
          "text": [
            "64it [01:06,  1.05s/it]\n"
          ]
        },
        {
          "output_type": "stream",
          "name": "stdout",
          "text": [
            "Adjusting learning rate of group 0 to 3.3371e-05.\n",
            "[INFO] Completed epoch 23/100 ---> Train loss = 1.74931 | Validation loss = 1.75461\n"
          ]
        },
        {
          "output_type": "stream",
          "name": "stderr",
          "text": [
            "64it [01:07,  1.05s/it]\n"
          ]
        },
        {
          "output_type": "stream",
          "name": "stdout",
          "text": [
            "Adjusting learning rate of group 0 to 3.0821e-05.\n",
            "[INFO] Completed epoch 24/100 ---> Train loss = 1.70619 | Validation loss = 1.73605\n"
          ]
        },
        {
          "output_type": "stream",
          "name": "stderr",
          "text": [
            "64it [01:06,  1.05s/it]\n"
          ]
        },
        {
          "output_type": "stream",
          "name": "stdout",
          "text": [
            "Adjusting learning rate of group 0 to 2.8334e-05.\n",
            "[INFO] Completed epoch 25/100 ---> Train loss = 1.72315 | Validation loss = 1.73156\n"
          ]
        },
        {
          "output_type": "stream",
          "name": "stderr",
          "text": [
            "64it [01:06,  1.04s/it]\n"
          ]
        },
        {
          "output_type": "stream",
          "name": "stdout",
          "text": [
            "Adjusting learning rate of group 0 to 2.5928e-05.\n",
            "[INFO] Completed epoch 26/100 ---> Train loss = 1.70995 | Validation loss = 1.73624\n"
          ]
        },
        {
          "output_type": "stream",
          "name": "stderr",
          "text": [
            "64it [01:06,  1.04s/it]\n"
          ]
        },
        {
          "output_type": "stream",
          "name": "stdout",
          "text": [
            "Adjusting learning rate of group 0 to 2.3616e-05.\n",
            "[INFO] Completed epoch 27/100 ---> Train loss = 1.711 | Validation loss = 1.72103\n"
          ]
        },
        {
          "output_type": "stream",
          "name": "stderr",
          "text": [
            "64it [01:06,  1.04s/it]\n"
          ]
        },
        {
          "output_type": "stream",
          "name": "stdout",
          "text": [
            "Adjusting learning rate of group 0 to 2.1412e-05.\n",
            "[INFO] Completed epoch 28/100 ---> Train loss = 1.7232 | Validation loss = 1.72187\n"
          ]
        },
        {
          "output_type": "stream",
          "name": "stderr",
          "text": [
            "64it [01:06,  1.05s/it]\n"
          ]
        },
        {
          "output_type": "stream",
          "name": "stdout",
          "text": [
            "Adjusting learning rate of group 0 to 1.9331e-05.\n",
            "[INFO] Completed epoch 29/100 ---> Train loss = 1.70076 | Validation loss = 1.74462\n"
          ]
        },
        {
          "output_type": "stream",
          "name": "stderr",
          "text": [
            "64it [01:06,  1.05s/it]\n"
          ]
        },
        {
          "output_type": "stream",
          "name": "stdout",
          "text": [
            "Adjusting learning rate of group 0 to 1.7385e-05.\n",
            "[INFO] Completed epoch 30/100 ---> Train loss = 1.66221 | Validation loss = 1.67607\n"
          ]
        },
        {
          "output_type": "stream",
          "name": "stderr",
          "text": [
            "64it [01:06,  1.05s/it]\n"
          ]
        },
        {
          "output_type": "stream",
          "name": "stdout",
          "text": [
            "Adjusting learning rate of group 0 to 1.5586e-05.\n",
            "[INFO] Completed epoch 31/100 ---> Train loss = 1.67408 | Validation loss = 1.72291\n"
          ]
        },
        {
          "output_type": "stream",
          "name": "stderr",
          "text": [
            "64it [01:06,  1.05s/it]\n"
          ]
        },
        {
          "output_type": "stream",
          "name": "stdout",
          "text": [
            "Adjusting learning rate of group 0 to 1.3946e-05.\n",
            "[INFO] Completed epoch 32/100 ---> Train loss = 1.74457 | Validation loss = 1.6838\n"
          ]
        },
        {
          "output_type": "stream",
          "name": "stderr",
          "text": [
            "64it [01:06,  1.05s/it]\n"
          ]
        },
        {
          "output_type": "stream",
          "name": "stdout",
          "text": [
            "Adjusting learning rate of group 0 to 1.2473e-05.\n",
            "[INFO] Completed epoch 33/100 ---> Train loss = 1.69413 | Validation loss = 1.74726\n"
          ]
        },
        {
          "output_type": "stream",
          "name": "stderr",
          "text": [
            "64it [01:06,  1.05s/it]\n"
          ]
        },
        {
          "output_type": "stream",
          "name": "stdout",
          "text": [
            "Adjusting learning rate of group 0 to 1.1179e-05.\n",
            "[INFO] Completed epoch 34/100 ---> Train loss = 1.69207 | Validation loss = 1.76039\n"
          ]
        },
        {
          "output_type": "stream",
          "name": "stderr",
          "text": [
            "64it [01:06,  1.05s/it]\n"
          ]
        },
        {
          "output_type": "stream",
          "name": "stdout",
          "text": [
            "Adjusting learning rate of group 0 to 1.0069e-05.\n",
            "[INFO] Completed epoch 35/100 ---> Train loss = 1.70668 | Validation loss = 1.74302\n"
          ]
        },
        {
          "output_type": "stream",
          "name": "stderr",
          "text": [
            "64it [01:06,  1.05s/it]\n"
          ]
        },
        {
          "output_type": "stream",
          "name": "stdout",
          "text": [
            "Adjusting learning rate of group 0 to 9.1518e-06.\n",
            "[INFO] Completed epoch 36/100 ---> Train loss = 1.71474 | Validation loss = 1.70782\n"
          ]
        },
        {
          "output_type": "stream",
          "name": "stderr",
          "text": [
            "64it [01:06,  1.05s/it]\n"
          ]
        },
        {
          "output_type": "stream",
          "name": "stdout",
          "text": [
            "Adjusting learning rate of group 0 to 8.4325e-06.\n",
            "[INFO] Completed epoch 37/100 ---> Train loss = 1.75327 | Validation loss = 1.68849\n"
          ]
        },
        {
          "output_type": "stream",
          "name": "stderr",
          "text": [
            "64it [01:06,  1.05s/it]\n"
          ]
        },
        {
          "output_type": "stream",
          "name": "stdout",
          "text": [
            "Adjusting learning rate of group 0 to 7.9155e-06.\n",
            "[INFO] Completed epoch 38/100 ---> Train loss = 1.6934 | Validation loss = 1.76312\n"
          ]
        },
        {
          "output_type": "stream",
          "name": "stderr",
          "text": [
            "64it [01:06,  1.05s/it]\n"
          ]
        },
        {
          "output_type": "stream",
          "name": "stdout",
          "text": [
            "Adjusting learning rate of group 0 to 7.6040e-06.\n",
            "[INFO] Completed epoch 39/100 ---> Train loss = 1.73918 | Validation loss = 1.71298\n"
          ]
        },
        {
          "output_type": "stream",
          "name": "stderr",
          "text": [
            "64it [01:07,  1.05s/it]\n"
          ]
        },
        {
          "output_type": "stream",
          "name": "stdout",
          "text": [
            "Adjusting learning rate of group 0 to 7.5000e-06.\n",
            "[INFO] Completed epoch 40/100 ---> Train loss = 1.70177 | Validation loss = 1.71637\n"
          ]
        },
        {
          "output_type": "stream",
          "name": "stderr",
          "text": [
            "64it [01:07,  1.05s/it]\n"
          ]
        },
        {
          "output_type": "stream",
          "name": "stdout",
          "text": [
            "[INFO] Completed epoch 41/100 ---> Train loss = 1.69211 | Validation loss = 1.72691\n"
          ]
        },
        {
          "output_type": "stream",
          "name": "stderr",
          "text": [
            "64it [01:07,  1.05s/it]\n"
          ]
        },
        {
          "output_type": "stream",
          "name": "stdout",
          "text": [
            "[INFO] Completed epoch 42/100 ---> Train loss = 1.71749 | Validation loss = 1.72965\n"
          ]
        },
        {
          "output_type": "stream",
          "name": "stderr",
          "text": [
            "64it [01:07,  1.05s/it]\n"
          ]
        },
        {
          "output_type": "stream",
          "name": "stdout",
          "text": [
            "[INFO] Completed epoch 43/100 ---> Train loss = 1.70181 | Validation loss = 1.73159\n"
          ]
        },
        {
          "output_type": "stream",
          "name": "stderr",
          "text": [
            "64it [01:07,  1.05s/it]\n"
          ]
        },
        {
          "output_type": "stream",
          "name": "stdout",
          "text": [
            "[INFO] Completed epoch 44/100 ---> Train loss = 1.7063 | Validation loss = 1.71248\n"
          ]
        },
        {
          "output_type": "stream",
          "name": "stderr",
          "text": [
            "64it [01:07,  1.05s/it]\n"
          ]
        },
        {
          "output_type": "stream",
          "name": "stdout",
          "text": [
            "[INFO] Completed epoch 45/100 ---> Train loss = 1.74834 | Validation loss = 1.7213\n"
          ]
        },
        {
          "output_type": "stream",
          "name": "stderr",
          "text": [
            "64it [01:06,  1.05s/it]\n"
          ]
        },
        {
          "output_type": "stream",
          "name": "stdout",
          "text": [
            "[INFO] Completed epoch 46/100 ---> Train loss = 1.75167 | Validation loss = 1.73694\n"
          ]
        },
        {
          "output_type": "stream",
          "name": "stderr",
          "text": [
            "64it [01:07,  1.05s/it]\n"
          ]
        },
        {
          "output_type": "stream",
          "name": "stdout",
          "text": [
            "[INFO] Completed epoch 47/100 ---> Train loss = 1.72561 | Validation loss = 1.71751\n"
          ]
        },
        {
          "output_type": "stream",
          "name": "stderr",
          "text": [
            "64it [01:07,  1.05s/it]\n"
          ]
        },
        {
          "output_type": "stream",
          "name": "stdout",
          "text": [
            "[INFO] Completed epoch 48/100 ---> Train loss = 1.70521 | Validation loss = 1.72287\n"
          ]
        },
        {
          "output_type": "stream",
          "name": "stderr",
          "text": [
            "64it [01:07,  1.05s/it]\n"
          ]
        },
        {
          "output_type": "stream",
          "name": "stdout",
          "text": [
            "[INFO] Completed epoch 49/100 ---> Train loss = 1.73272 | Validation loss = 1.71426\n"
          ]
        },
        {
          "output_type": "stream",
          "name": "stderr",
          "text": [
            "64it [01:06,  1.05s/it]\n"
          ]
        },
        {
          "output_type": "stream",
          "name": "stdout",
          "text": [
            "[INFO] Completed epoch 50/100 ---> Train loss = 1.71356 | Validation loss = 1.70561\n"
          ]
        },
        {
          "output_type": "stream",
          "name": "stderr",
          "text": [
            "64it [01:07,  1.05s/it]\n"
          ]
        },
        {
          "output_type": "stream",
          "name": "stdout",
          "text": [
            "[INFO] Completed epoch 51/100 ---> Train loss = 1.71178 | Validation loss = 1.72163\n"
          ]
        },
        {
          "output_type": "stream",
          "name": "stderr",
          "text": [
            "64it [01:07,  1.05s/it]\n"
          ]
        },
        {
          "output_type": "stream",
          "name": "stdout",
          "text": [
            "[INFO] Completed epoch 52/100 ---> Train loss = 1.72901 | Validation loss = 1.74205\n"
          ]
        },
        {
          "output_type": "stream",
          "name": "stderr",
          "text": [
            "64it [01:06,  1.05s/it]\n"
          ]
        },
        {
          "output_type": "stream",
          "name": "stdout",
          "text": [
            "[INFO] Completed epoch 53/100 ---> Train loss = 1.6988 | Validation loss = 1.71936\n"
          ]
        },
        {
          "output_type": "stream",
          "name": "stderr",
          "text": [
            "64it [01:06,  1.05s/it]\n"
          ]
        },
        {
          "output_type": "stream",
          "name": "stdout",
          "text": [
            "[INFO] Completed epoch 54/100 ---> Train loss = 1.72271 | Validation loss = 1.74428\n"
          ]
        },
        {
          "output_type": "stream",
          "name": "stderr",
          "text": [
            "64it [01:06,  1.05s/it]\n"
          ]
        },
        {
          "output_type": "stream",
          "name": "stdout",
          "text": [
            "[INFO] Completed epoch 55/100 ---> Train loss = 1.72532 | Validation loss = 1.74897\n"
          ]
        },
        {
          "output_type": "stream",
          "name": "stderr",
          "text": [
            "64it [01:06,  1.05s/it]\n"
          ]
        },
        {
          "output_type": "stream",
          "name": "stdout",
          "text": [
            "[INFO] Completed epoch 56/100 ---> Train loss = 1.71219 | Validation loss = 1.73078\n"
          ]
        },
        {
          "output_type": "stream",
          "name": "stderr",
          "text": [
            "64it [01:06,  1.05s/it]\n"
          ]
        },
        {
          "output_type": "stream",
          "name": "stdout",
          "text": [
            "[INFO] Completed epoch 57/100 ---> Train loss = 1.7119 | Validation loss = 1.73246\n"
          ]
        },
        {
          "output_type": "stream",
          "name": "stderr",
          "text": [
            "64it [01:06,  1.05s/it]\n"
          ]
        },
        {
          "output_type": "stream",
          "name": "stdout",
          "text": [
            "[INFO] Completed epoch 58/100 ---> Train loss = 1.71974 | Validation loss = 1.73605\n"
          ]
        },
        {
          "output_type": "stream",
          "name": "stderr",
          "text": [
            "64it [01:06,  1.05s/it]\n"
          ]
        },
        {
          "output_type": "stream",
          "name": "stdout",
          "text": [
            "[INFO] Completed epoch 59/100 ---> Train loss = 1.7279 | Validation loss = 1.72969\n"
          ]
        },
        {
          "output_type": "stream",
          "name": "stderr",
          "text": [
            "64it [01:06,  1.05s/it]\n"
          ]
        },
        {
          "output_type": "stream",
          "name": "stdout",
          "text": [
            "[INFO] Completed epoch 60/100 ---> Train loss = 1.7389 | Validation loss = 1.73087\n"
          ]
        },
        {
          "output_type": "stream",
          "name": "stderr",
          "text": [
            "64it [01:06,  1.05s/it]\n"
          ]
        },
        {
          "output_type": "stream",
          "name": "stdout",
          "text": [
            "[INFO] Completed epoch 61/100 ---> Train loss = 1.73565 | Validation loss = 1.69516\n"
          ]
        },
        {
          "output_type": "stream",
          "name": "stderr",
          "text": [
            "64it [01:07,  1.05s/it]\n"
          ]
        },
        {
          "output_type": "stream",
          "name": "stdout",
          "text": [
            "[INFO] Completed epoch 62/100 ---> Train loss = 1.70543 | Validation loss = 1.72613\n"
          ]
        },
        {
          "output_type": "stream",
          "name": "stderr",
          "text": [
            "64it [01:07,  1.05s/it]\n"
          ]
        },
        {
          "output_type": "stream",
          "name": "stdout",
          "text": [
            "[INFO] Completed epoch 63/100 ---> Train loss = 1.67244 | Validation loss = 1.71019\n"
          ]
        },
        {
          "output_type": "stream",
          "name": "stderr",
          "text": [
            "64it [01:07,  1.05s/it]\n"
          ]
        },
        {
          "output_type": "stream",
          "name": "stdout",
          "text": [
            "[INFO] Completed epoch 64/100 ---> Train loss = 1.69884 | Validation loss = 1.72813\n"
          ]
        },
        {
          "output_type": "stream",
          "name": "stderr",
          "text": [
            "64it [01:06,  1.05s/it]\n"
          ]
        },
        {
          "output_type": "stream",
          "name": "stdout",
          "text": [
            "[INFO] Completed epoch 65/100 ---> Train loss = 1.70542 | Validation loss = 1.70578\n"
          ]
        },
        {
          "output_type": "stream",
          "name": "stderr",
          "text": [
            "64it [01:06,  1.05s/it]\n"
          ]
        },
        {
          "output_type": "stream",
          "name": "stdout",
          "text": [
            "[INFO] Completed epoch 66/100 ---> Train loss = 1.70641 | Validation loss = 1.71425\n"
          ]
        },
        {
          "output_type": "stream",
          "name": "stderr",
          "text": [
            "64it [01:06,  1.05s/it]\n"
          ]
        },
        {
          "output_type": "stream",
          "name": "stdout",
          "text": [
            "[INFO] Completed epoch 67/100 ---> Train loss = 1.71242 | Validation loss = 1.73132\n"
          ]
        },
        {
          "output_type": "stream",
          "name": "stderr",
          "text": [
            "64it [01:06,  1.05s/it]\n"
          ]
        },
        {
          "output_type": "stream",
          "name": "stdout",
          "text": [
            "[INFO] Completed epoch 68/100 ---> Train loss = 1.69453 | Validation loss = 1.69317\n"
          ]
        },
        {
          "output_type": "stream",
          "name": "stderr",
          "text": [
            "64it [01:06,  1.05s/it]\n"
          ]
        },
        {
          "output_type": "stream",
          "name": "stdout",
          "text": [
            "[INFO] Completed epoch 69/100 ---> Train loss = 1.72032 | Validation loss = 1.72053\n"
          ]
        },
        {
          "output_type": "stream",
          "name": "stderr",
          "text": [
            "64it [01:06,  1.05s/it]\n"
          ]
        },
        {
          "output_type": "stream",
          "name": "stdout",
          "text": [
            "[INFO] Completed epoch 70/100 ---> Train loss = 1.75171 | Validation loss = 1.69696\n"
          ]
        },
        {
          "output_type": "stream",
          "name": "stderr",
          "text": [
            "64it [01:06,  1.05s/it]\n"
          ]
        },
        {
          "output_type": "stream",
          "name": "stdout",
          "text": [
            "[INFO] Completed epoch 71/100 ---> Train loss = 1.75968 | Validation loss = 1.7442\n"
          ]
        },
        {
          "output_type": "stream",
          "name": "stderr",
          "text": [
            "64it [01:06,  1.05s/it]\n"
          ]
        },
        {
          "output_type": "stream",
          "name": "stdout",
          "text": [
            "[INFO] Completed epoch 72/100 ---> Train loss = 1.71799 | Validation loss = 1.71547\n"
          ]
        },
        {
          "output_type": "stream",
          "name": "stderr",
          "text": [
            "64it [01:06,  1.05s/it]\n"
          ]
        },
        {
          "output_type": "stream",
          "name": "stdout",
          "text": [
            "[INFO] Completed epoch 73/100 ---> Train loss = 1.74306 | Validation loss = 1.73858\n"
          ]
        },
        {
          "output_type": "stream",
          "name": "stderr",
          "text": [
            "64it [01:06,  1.05s/it]\n"
          ]
        },
        {
          "output_type": "stream",
          "name": "stdout",
          "text": [
            "[INFO] Completed epoch 74/100 ---> Train loss = 1.73227 | Validation loss = 1.72498\n"
          ]
        },
        {
          "output_type": "stream",
          "name": "stderr",
          "text": [
            "64it [01:06,  1.05s/it]\n"
          ]
        },
        {
          "output_type": "stream",
          "name": "stdout",
          "text": [
            "[INFO] Completed epoch 75/100 ---> Train loss = 1.74363 | Validation loss = 1.7575\n"
          ]
        },
        {
          "output_type": "stream",
          "name": "stderr",
          "text": [
            "64it [01:06,  1.05s/it]\n"
          ]
        },
        {
          "output_type": "stream",
          "name": "stdout",
          "text": [
            "[INFO] Completed epoch 76/100 ---> Train loss = 1.69811 | Validation loss = 1.70083\n"
          ]
        },
        {
          "output_type": "stream",
          "name": "stderr",
          "text": [
            "64it [01:06,  1.05s/it]\n"
          ]
        },
        {
          "output_type": "stream",
          "name": "stdout",
          "text": [
            "[INFO] Completed epoch 77/100 ---> Train loss = 1.70327 | Validation loss = 1.70643\n"
          ]
        },
        {
          "output_type": "stream",
          "name": "stderr",
          "text": [
            "64it [01:06,  1.05s/it]\n"
          ]
        },
        {
          "output_type": "stream",
          "name": "stdout",
          "text": [
            "[INFO] Completed epoch 78/100 ---> Train loss = 1.73079 | Validation loss = 1.72015\n"
          ]
        },
        {
          "output_type": "stream",
          "name": "stderr",
          "text": [
            "64it [01:06,  1.04s/it]\n"
          ]
        },
        {
          "output_type": "stream",
          "name": "stdout",
          "text": [
            "[INFO] Completed epoch 79/100 ---> Train loss = 1.73733 | Validation loss = 1.73093\n"
          ]
        },
        {
          "output_type": "stream",
          "name": "stderr",
          "text": [
            "64it [01:07,  1.05s/it]\n"
          ]
        },
        {
          "output_type": "stream",
          "name": "stdout",
          "text": [
            "[INFO] Completed epoch 80/100 ---> Train loss = 1.6976 | Validation loss = 1.69994\n"
          ]
        },
        {
          "output_type": "stream",
          "name": "stderr",
          "text": [
            "64it [01:07,  1.05s/it]\n"
          ]
        },
        {
          "output_type": "stream",
          "name": "stdout",
          "text": [
            "[INFO] Completed epoch 81/100 ---> Train loss = 1.66842 | Validation loss = 1.69724\n"
          ]
        },
        {
          "output_type": "stream",
          "name": "stderr",
          "text": [
            "64it [01:07,  1.05s/it]\n"
          ]
        },
        {
          "output_type": "stream",
          "name": "stdout",
          "text": [
            "[INFO] Completed epoch 82/100 ---> Train loss = 1.71942 | Validation loss = 1.71138\n"
          ]
        },
        {
          "output_type": "stream",
          "name": "stderr",
          "text": [
            "64it [01:06,  1.05s/it]\n"
          ]
        },
        {
          "output_type": "stream",
          "name": "stdout",
          "text": [
            "[INFO] Completed epoch 83/100 ---> Train loss = 1.68744 | Validation loss = 1.70296\n"
          ]
        },
        {
          "output_type": "stream",
          "name": "stderr",
          "text": [
            "64it [01:06,  1.05s/it]\n"
          ]
        },
        {
          "output_type": "stream",
          "name": "stdout",
          "text": [
            "[INFO] Completed epoch 84/100 ---> Train loss = 1.70019 | Validation loss = 1.69762\n"
          ]
        },
        {
          "output_type": "stream",
          "name": "stderr",
          "text": [
            "64it [01:06,  1.05s/it]\n"
          ]
        },
        {
          "output_type": "stream",
          "name": "stdout",
          "text": [
            "[INFO] Completed epoch 85/100 ---> Train loss = 1.74525 | Validation loss = 1.67812\n"
          ]
        },
        {
          "output_type": "stream",
          "name": "stderr",
          "text": [
            "64it [01:06,  1.05s/it]\n"
          ]
        },
        {
          "output_type": "stream",
          "name": "stdout",
          "text": [
            "[INFO] Completed epoch 86/100 ---> Train loss = 1.68588 | Validation loss = 1.70218\n"
          ]
        },
        {
          "output_type": "stream",
          "name": "stderr",
          "text": [
            "64it [01:06,  1.05s/it]\n"
          ]
        },
        {
          "output_type": "stream",
          "name": "stdout",
          "text": [
            "[INFO] Completed epoch 87/100 ---> Train loss = 1.73217 | Validation loss = 1.74032\n"
          ]
        },
        {
          "output_type": "stream",
          "name": "stderr",
          "text": [
            "64it [01:06,  1.05s/it]\n"
          ]
        },
        {
          "output_type": "stream",
          "name": "stdout",
          "text": [
            "[INFO] Completed epoch 88/100 ---> Train loss = 1.71647 | Validation loss = 1.75035\n"
          ]
        },
        {
          "output_type": "stream",
          "name": "stderr",
          "text": [
            "64it [01:06,  1.05s/it]\n"
          ]
        },
        {
          "output_type": "stream",
          "name": "stdout",
          "text": [
            "[INFO] Completed epoch 89/100 ---> Train loss = 1.70614 | Validation loss = 1.71488\n"
          ]
        },
        {
          "output_type": "stream",
          "name": "stderr",
          "text": [
            "64it [01:06,  1.04s/it]\n"
          ]
        },
        {
          "output_type": "stream",
          "name": "stdout",
          "text": [
            "[INFO] Completed epoch 90/100 ---> Train loss = 1.72556 | Validation loss = 1.72495\n"
          ]
        },
        {
          "output_type": "stream",
          "name": "stderr",
          "text": [
            "64it [01:06,  1.04s/it]\n"
          ]
        },
        {
          "output_type": "stream",
          "name": "stdout",
          "text": [
            "[INFO] Completed epoch 91/100 ---> Train loss = 1.67755 | Validation loss = 1.70623\n"
          ]
        },
        {
          "output_type": "stream",
          "name": "stderr",
          "text": [
            "64it [01:06,  1.04s/it]\n"
          ]
        },
        {
          "output_type": "stream",
          "name": "stdout",
          "text": [
            "[INFO] Completed epoch 92/100 ---> Train loss = 1.70539 | Validation loss = 1.7437\n"
          ]
        },
        {
          "output_type": "stream",
          "name": "stderr",
          "text": [
            "64it [01:07,  1.05s/it]\n"
          ]
        },
        {
          "output_type": "stream",
          "name": "stdout",
          "text": [
            "[INFO] Completed epoch 93/100 ---> Train loss = 1.7153 | Validation loss = 1.70518\n"
          ]
        },
        {
          "output_type": "stream",
          "name": "stderr",
          "text": [
            "64it [01:06,  1.05s/it]\n"
          ]
        },
        {
          "output_type": "stream",
          "name": "stdout",
          "text": [
            "[INFO] Completed epoch 94/100 ---> Train loss = 1.67372 | Validation loss = 1.6882\n"
          ]
        },
        {
          "output_type": "stream",
          "name": "stderr",
          "text": [
            "64it [01:06,  1.05s/it]\n"
          ]
        },
        {
          "output_type": "stream",
          "name": "stdout",
          "text": [
            "[INFO] Completed epoch 95/100 ---> Train loss = 1.69835 | Validation loss = 1.6919\n"
          ]
        },
        {
          "output_type": "stream",
          "name": "stderr",
          "text": [
            "64it [01:06,  1.05s/it]\n"
          ]
        },
        {
          "output_type": "stream",
          "name": "stdout",
          "text": [
            "[INFO] Completed epoch 96/100 ---> Train loss = 1.71314 | Validation loss = 1.70853\n"
          ]
        },
        {
          "output_type": "stream",
          "name": "stderr",
          "text": [
            "64it [01:07,  1.05s/it]\n"
          ]
        },
        {
          "output_type": "stream",
          "name": "stdout",
          "text": [
            "[INFO] Completed epoch 97/100 ---> Train loss = 1.71757 | Validation loss = 1.67461\n"
          ]
        },
        {
          "output_type": "stream",
          "name": "stderr",
          "text": [
            "64it [01:06,  1.05s/it]\n"
          ]
        },
        {
          "output_type": "stream",
          "name": "stdout",
          "text": [
            "[INFO] Completed epoch 98/100 ---> Train loss = 1.71463 | Validation loss = 1.6954\n"
          ]
        },
        {
          "output_type": "stream",
          "name": "stderr",
          "text": [
            "64it [01:07,  1.05s/it]\n"
          ]
        },
        {
          "output_type": "stream",
          "name": "stdout",
          "text": [
            "[INFO] Completed epoch 99/100 ---> Train loss = 1.67942 | Validation loss = 1.70093\n"
          ]
        },
        {
          "output_type": "stream",
          "name": "stderr",
          "text": [
            "64it [01:06,  1.05s/it]\n"
          ]
        },
        {
          "output_type": "stream",
          "name": "stdout",
          "text": [
            "[INFO] Completed epoch 100/100 ---> Train loss = 1.70098 | Validation loss = 1.72815\n"
          ]
        },
        {
          "output_type": "display_data",
          "data": {
            "text/plain": [
              "<Figure size 640x480 with 1 Axes>"
            ],
            "image/png": "[encoded data removed]"
          },
          "metadata": {}
        }
      ],
      "source": [
        "model = X3ECGpp(num_classes = 12).to(device)\n",
        "train_model(model, train_dl, validation_dl, epoches=100, learning_rate=7.5e-5)"
      ]
    },
    {
      "cell_type": "code",
      "execution_count": null,
      "metadata": {
        "id": "eRWqTSU9nrnV",
        "colab": {
          "base_uri": "https://localhost:8080/",
          "height": 556
        },
        "outputId": "3b1f6e64-dc2f-4163-8c98-09f7b1b4c4cf"
      },
      "outputs": [
        {
          "output_type": "stream",
          "name": "stdout",
          "text": [
            "[INFO] Train accuracy = 0.92812 | f1-score = 0.90279\n",
            "[INFO] Validation accuracy = 0.915 | f1-score = 0.88993\n",
            "[INFO] Test accuracy = 0.88989 | f1-score = 0.86009\n"
          ]
        },
        {
          "output_type": "display_data",
          "data": {
            "text/plain": [
              "<Figure size 640x480 with 2 Axes>"
            ],
            "image/png": "[encoded data removed]"
          },
          "metadata": {}
        }
      ],
      "source": [
        "evaluate_model(model, train_dl, \"Train\")\n",
        "evaluate_model(model, validation_dl, \"Validation\")\n",
        "evaluate_model(model, test_dl, \"Test\")"
      ]
    },
    {
      "cell_type": "code",
      "execution_count": null,
      "metadata": {
        "id": "PGN4afTgPcmT"
      },
      "outputs": [],
      "source": [
        "# torch.save(model, \"/content/drive/MyDrive/Intelliscope/Software/ML/Classification 12/model_for_12_classes.pt\")"
      ]
    }
  ],
  "metadata": {
    "accelerator": "GPU",
    "colab": {
      "provenance": []
    },
    "gpuClass": "standard",
    "kernelspec": {
      "display_name": "Python 3",
      "name": "python3"
    },
    "language_info": {
      "name": "python"
    }
  },
  "nbformat": 4,
  "nbformat_minor": 0
}